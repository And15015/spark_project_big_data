{
 "cells": [
  {
   "cell_type": "markdown",
   "id": "cc06c40e",
   "metadata": {},
   "source": [
    "## Se importan librerias"
   ]
  },
  {
   "cell_type": "code",
   "execution_count": 1,
   "id": "57650766",
   "metadata": {},
   "outputs": [],
   "source": [
    "import pandas as pd\n",
    "import numpy as np\n",
    "import matplotlib.pyplot as plt\n",
    "%matplotlib inline\n",
    "\n",
    "import pyspark\n",
    "from pyspark.sql import *\n",
    "from pyspark.sql.functions import *\n",
    "from pyspark import SparkContext, SparkConf"
   ]
  },
  {
   "cell_type": "code",
   "execution_count": 2,
   "id": "37d77685",
   "metadata": {},
   "outputs": [],
   "source": [
    "from pyspark.ml.clustering import KMeans\n",
    "from pyspark.ml.evaluation import ClusteringEvaluator"
   ]
  },
  {
   "cell_type": "code",
   "execution_count": 3,
   "id": "1470bec5",
   "metadata": {},
   "outputs": [],
   "source": [
    "from pyspark.ml.feature import Word2Vec"
   ]
  },
  {
   "cell_type": "markdown",
   "id": "28f670c7",
   "metadata": {},
   "source": [
    "## Se crea el contexto y la sesion de spark"
   ]
  },
  {
   "cell_type": "code",
   "execution_count": 4,
   "id": "1d61a2d9",
   "metadata": {},
   "outputs": [
    {
     "name": "stderr",
     "output_type": "stream",
     "text": [
      "Setting default log level to \"WARN\".\n",
      "To adjust logging level use sc.setLogLevel(newLevel). For SparkR, use setLogLevel(newLevel).\n"
     ]
    },
    {
     "name": "stdout",
     "output_type": "stream",
     "text": [
      "22/11/01 02:19:13 WARN NativeCodeLoader: Unable to load native-hadoop library for your platform... using builtin-java classes where applicable\n"
     ]
    }
   ],
   "source": [
    "conf = SparkConf().set(\"spark.ui.port\", \"4050\")\n",
    "\n",
    "# creamos el contexto y la sesión\n",
    "sc = pyspark.SparkContext(conf=conf)\n",
    "spark = SparkSession.builder.getOrCreate()"
   ]
  },
  {
   "cell_type": "markdown",
   "id": "6a552ce3",
   "metadata": {},
   "source": [
    "## Se leen los datos"
   ]
  },
  {
   "cell_type": "code",
   "execution_count": 5,
   "id": "e54b78e1",
   "metadata": {},
   "outputs": [
    {
     "name": "stdout",
     "output_type": "stream",
     "text": [
      "+--------------------+--------------------+--------+\n",
      "|               title|             content|category|\n",
      "+--------------------+--------------------+--------+\n",
      "|Looking into the ...|Hi, what are you ...| general|\n",
      "|Hexo refiles fina...|New York reported...| general|\n",
      "|Japan raid, Turke...|Hi, what are you ...| general|\n",
      "|Pope's bodyguards...|Hi, what are you ...| general|\n",
      "|Lebanon denies pr...|Hi, what are you ...| general|\n",
      "|Lebanese lawyers ...|Hi, what are you ...| general|\n",
      "|' I did it alone ...|Hi, what are you ...| general|\n",
      "|Ghosn escape spar...|Hi, what are you ...| general|\n",
      "|Mexico's Santiago...|Hi, what are you ...| general|\n",
      "|Fired British veg...|Hi, what are you ...| general|\n",
      "|US places ban on ...|Hi, what are you ...| general|\n",
      "|Medicinal cannabi...|Hi, what are you ...| general|\n",
      "|2020 trends to wa...|Or wait...\\nSearc...| general|\n",
      "|Madonna rings in ...|Hi, what are you ...| general|\n",
      "|Three Industrial ...|\\nWith the end of...|business|\n",
      "|My experience of ...|“ Helen, I’ m so ...|    tech|\n",
      "|Alcohol-free craf...|Or wait...\\nSearc...| general|\n",
      "|Buonafide 0.0 imp...|Or wait...\\nSearc...| general|\n",
      "|Oil prices soar a...|Hi, what are you ...| general|\n",
      "|On the road to AI...|CIOs kicked off 2...|    tech|\n",
      "+--------------------+--------------------+--------+\n",
      "only showing top 20 rows\n",
      "\n"
     ]
    }
   ],
   "source": [
    "data_covid = spark.read.csv('./data/covid_articles_raw.csv', header=True, multiLine=True, escape='\"')\n",
    "data_covid.show()"
   ]
  },
  {
   "cell_type": "markdown",
   "id": "ba981c4f",
   "metadata": {},
   "source": [
    "## Se selecciona la columna title"
   ]
  },
  {
   "cell_type": "code",
   "execution_count": 6,
   "id": "ae524972",
   "metadata": {},
   "outputs": [],
   "source": [
    "title = data_covid.select('title')"
   ]
  },
  {
   "cell_type": "markdown",
   "id": "e4bec0ca",
   "metadata": {},
   "source": [
    "# **Se toma una muestra de 10%** de la data para TEST y se toma una semilla de 3"
   ]
  },
  {
   "cell_type": "code",
   "execution_count": 7,
   "id": "8ff846a5",
   "metadata": {},
   "outputs": [],
   "source": [
    "sample_title = title.sample(fraction = .1, seed = 3)"
   ]
  },
  {
   "cell_type": "markdown",
   "id": "b04c24e1",
   "metadata": {},
   "source": [
    "## Se hace un Split de la columna title y se pone todo el texto en minusculas para TEST"
   ]
  },
  {
   "cell_type": "code",
   "execution_count": 8,
   "id": "cbccec7b",
   "metadata": {},
   "outputs": [],
   "source": [
    "titles = sample_title.withColumn('title_splitted',split(lower(col('title')),\" \"))"
   ]
  },
  {
   "cell_type": "code",
   "execution_count": 9,
   "id": "d36f467e",
   "metadata": {},
   "outputs": [
    {
     "data": {
      "text/plain": [
       "[Row(title='An elegy for cash: the technology we might never replace', title_splitted=['an', 'elegy', 'for', 'cash:', 'the', 'technology', 'we', 'might', 'never', 'replace']),\n",
       " Row(title='POSTPONED - SpaMedica CET Event – Cataract & AMD Training', title_splitted=['postponed', '-', 'spamedica', 'cet', 'event', '–', 'cataract', '&', 'amd', 'training'])]"
      ]
     },
     "execution_count": 9,
     "metadata": {},
     "output_type": "execute_result"
    }
   ],
   "source": [
    "titles.take(2)"
   ]
  },
  {
   "cell_type": "markdown",
   "id": "588ff530",
   "metadata": {},
   "source": [
    "## Se aplica el metodo de word2vec con un tamaño de vector 100 , con una minima frecuencia por palabra de 0, 100 iteraciones maximo para TEST"
   ]
  },
  {
   "cell_type": "code",
   "execution_count": 10,
   "id": "d14ca242",
   "metadata": {},
   "outputs": [],
   "source": [
    "w2v = Word2Vec(vectorSize = 100, minCount = 0, maxIter = 10, inputCol = 'title_splitted', outputCol = 'features')"
   ]
  },
  {
   "cell_type": "markdown",
   "id": "f7b542ec",
   "metadata": {},
   "source": [
    "## Se entrena los datos TEST el modelo con titles"
   ]
  },
  {
   "cell_type": "code",
   "execution_count": 11,
   "id": "fd486173",
   "metadata": {
    "scrolled": false
   },
   "outputs": [
    {
     "name": "stderr",
     "output_type": "stream",
     "text": [
      "[Stage 5:>                                                          (0 + 1) / 1]\r"
     ]
    },
    {
     "name": "stdout",
     "output_type": "stream",
     "text": [
      "22/11/01 02:20:23 WARN InstanceBuilder$NativeBLAS: Failed to load implementation from:dev.ludovic.netlib.blas.JNIBLAS\n",
      "22/11/01 02:20:23 WARN InstanceBuilder$NativeBLAS: Failed to load implementation from:dev.ludovic.netlib.blas.ForeignLinkerBLAS\n"
     ]
    },
    {
     "name": "stderr",
     "output_type": "stream",
     "text": [
      "                                                                                \r"
     ]
    }
   ],
   "source": [
    "model = w2v.fit(titles)"
   ]
  },
  {
   "cell_type": "markdown",
   "id": "64d1efa0",
   "metadata": {},
   "source": [
    "## Se generan los emmbedings de los titulos con el metodo transform para TEST"
   ]
  },
  {
   "cell_type": "code",
   "execution_count": 12,
   "id": "a1322381",
   "metadata": {},
   "outputs": [],
   "source": [
    "result =model.transform(titles)"
   ]
  },
  {
   "cell_type": "code",
   "execution_count": 13,
   "id": "f851f2f2",
   "metadata": {},
   "outputs": [
    {
     "data": {
      "text/plain": [
       "[Row(title='An elegy for cash: the technology we might never replace', title_splitted=['an', 'elegy', 'for', 'cash:', 'the', 'technology', 'we', 'might', 'never', 'replace'], features=DenseVector([-0.0848, 0.0771, -0.0307, -0.2739, -0.009, 0.0027, 0.0835, -0.2482, 0.033, -0.2011, 0.1535, -0.0521, -0.0645, 0.0235, -0.1801, -0.0847, 0.1449, -0.073, 0.0267, 0.0272, -0.0035, -0.1427, -0.1003, -0.065, -0.1803, 0.033, 0.0056, -0.08, -0.035, 0.1067, -0.1538, 0.0025, -0.1133, 0.0087, -0.1548, -0.177, 0.0456, -0.0797, 0.1744, -0.0469, 0.0373, 0.0316, -0.074, 0.0684, 0.0679, -0.1446, -0.0564, -0.0215, -0.0662, -0.0863, -0.0594, -0.104, 0.1364, 0.2397, -0.1753, -0.026, 0.1137, -0.1784, -0.0129, 0.086, -0.009, 0.0408, 0.0727, 0.0912, -0.2597, -0.032, -0.144, 0.0804, -0.1145, -0.1634, -0.0207, 0.228, -0.0423, -0.0717, 0.2509, 0.0101, 0.028, -0.1158, -0.0143, -0.0354, -0.059, -0.162, 0.11, 0.1932, -0.0569, 0.037, -0.1561, -0.1513, 0.1235, 0.0369, -0.0443, 0.0248, 0.0512, -0.0302, 0.0447, -0.0381, 0.1372, 0.0323, 0.0473, -0.1965])),\n",
       " Row(title='POSTPONED - SpaMedica CET Event – Cataract & AMD Training', title_splitted=['postponed', '-', 'spamedica', 'cet', 'event', '–', 'cataract', '&', 'amd', 'training'], features=DenseVector([0.1586, 0.0193, 0.0525, 0.0393, 0.0661, -0.0737, 0.0974, -0.0352, -0.0433, 0.1733, 0.0162, -0.1564, 0.0627, -0.1549, -0.0945, 0.0539, 0.1249, 0.0712, -0.0899, -0.1193, -0.021, -0.0077, -0.0823, 0.1217, -0.0988, 0.0887, 0.2175, -0.0075, -0.0343, -0.0163, 0.1049, 0.1288, 0.0183, 0.0198, -0.177, -0.08, -0.062, 0.0651, -0.0988, -0.1002, 0.1284, -0.0758, -0.0509, 0.0022, 0.1444, -0.081, 0.011, -0.0029, 0.0133, 0.0067, -0.0108, -0.0273, -0.3558, 0.0888, -0.0661, -0.0805, -0.032, -0.187, 0.0006, -0.142, 0.0869, 0.2296, 0.2044, 0.0545, -0.1359, 0.0301, 0.2121, -0.0703, -0.102, -0.2616, 0.2791, -0.243, 0.0302, -0.0134, 0.0472, -0.1342, -0.0282, -0.0414, -0.0314, -0.1728, -0.0888, 0.0608, -0.153, 0.2652, -0.0715, 0.0069, 0.3849, -0.2222, 0.0748, -0.0795, -0.1345, 0.1131, 0.1145, -0.2965, 0.1394, 0.0732, 0.0315, 0.1897, -0.0096, 0.1843])),\n",
       " Row(title='特朗普盲目走向战争 by Djavad Salehi-Isfahani', title_splitted=['特朗普盲目走向战争', 'by', 'djavad', 'salehi-isfahani'], features=DenseVector([-0.0257, 0.3908, 0.1147, -0.0128, 0.1895, 0.0365, 0.2253, 0.0489, -0.0995, 0.112, -0.1802, 0.0746, 0.0728, -0.2668, -0.0613, -0.0603, 0.0255, 0.0694, -0.0317, -0.0756, 0.0367, 0.0796, -0.3259, 0.1146, -0.2294, 0.0869, 0.1639, 0.0033, 0.2362, -0.2371, -0.084, 0.0477, 0.1427, -0.054, 0.192, 0.2576, 0.0717, -0.0385, -0.0856, 0.0949, 0.0778, 0.0118, 0.0267, -0.2292, 0.0814, 0.0942, 0.1706, -0.3449, 0.0976, -0.0783, -0.1267, 0.0052, -0.042, 0.1314, 0.3437, -0.192, -0.0532, 0.0077, 0.0392, 0.0572, -0.0038, 0.1115, -0.0495, -0.1255, 0.0449, 0.0762, 0.0777, -0.0588, 0.236, 0.0932, 0.1905, 0.1973, 0.1526, 0.0783, -0.1393, 0.3969, 0.2829, -0.0908, 0.0001, -0.1507, -0.1473, -0.1165, 0.127, 0.0092, 0.0147, 0.0975, 0.0552, -0.0001, 0.18, 0.2175, -0.0531, -0.0832, -0.0036, -0.0433, 0.0632, -0.0311, -0.0143, -0.3476, 0.0776, -0.0972]))]"
      ]
     },
     "execution_count": 13,
     "metadata": {},
     "output_type": "execute_result"
    }
   ],
   "source": [
    "result.take(3)"
   ]
  },
  {
   "cell_type": "code",
   "execution_count": 14,
   "id": "31ee1e03",
   "metadata": {},
   "outputs": [
    {
     "data": {
      "text/plain": [
       "pyspark.sql.dataframe.DataFrame"
      ]
     },
     "execution_count": 14,
     "metadata": {},
     "output_type": "execute_result"
    }
   ],
   "source": [
    "type(result)\n"
   ]
  },
  {
   "cell_type": "code",
   "execution_count": 15,
   "id": "294ae290",
   "metadata": {},
   "outputs": [
    {
     "name": "stderr",
     "output_type": "stream",
     "text": [
      "                                                                                \r"
     ]
    }
   ],
   "source": [
    "from pyspark.ml.feature import VectorAssembler\n",
    "from pyspark.ml.clustering import KMeans\n",
    "from pyspark.ml.evaluation import ClusteringEvaluator\n",
    "\n",
    "silhouette_scores=[]\n",
    "\n",
    "#assemble=VectorAssembler(inputCols=['title_splitted'],outputCol = 'features')\n",
    "\n",
    "evaluator = ClusteringEvaluator(featuresCol='features', \\\n",
    "metricName='silhouette', distanceMeasure='squaredEuclidean')\n",
    "\n",
    "for K in range(2,11):\n",
    "\n",
    "    KMeans_=KMeans(featuresCol='features', k=K)\n",
    "\n",
    "    KMeans_fit=KMeans_.fit(result)\n",
    "\n",
    "    KMeans_transform=KMeans_fit.transform(result) \n",
    "\n",
    "    evaluation_score=evaluator.evaluate(KMeans_transform)\n",
    "\n",
    "    silhouette_scores.append(evaluation_score)"
   ]
  },
  {
   "cell_type": "code",
   "execution_count": 16,
   "id": "03761193",
   "metadata": {},
   "outputs": [
    {
     "data": {
      "text/plain": [
       "Text(0, 0.5, 'Silhouette Score')"
      ]
     },
     "execution_count": 16,
     "metadata": {},
     "output_type": "execute_result"
    },
    {
     "data": {
      "image/png": "[encoded data removed]",
      "text/plain": [
       "<Figure size 1000x800 with 1 Axes>"
      ]
     },
     "metadata": {},
     "output_type": "display_data"
    }
   ],
   "source": [
    "import matplotlib.pyplot as plt\n",
    "fig, ax = plt.subplots(1,1, figsize =(10,8))\n",
    "ax.plot(range(2,11),silhouette_scores)\n",
    "ax.set_xlabel('Number of Clusters')\n",
    "ax.set_ylabel('Silhouette Score')"
   ]
  },
  {
   "cell_type": "code",
   "execution_count": null,
   "id": "3e3f85fc",
   "metadata": {},
   "outputs": [],
   "source": []
  },
  {
   "cell_type": "code",
   "execution_count": null,
   "id": "0ea1c300",
   "metadata": {},
   "outputs": [],
   "source": []
  },
  {
   "cell_type": "markdown",
   "id": "837d1b2e",
   "metadata": {},
   "source": [
    "## Se entrena un modelo TEST usando kmeans para 100 iteraciones y 3 cluster"
   ]
  },
  {
   "cell_type": "code",
   "execution_count": null,
   "id": "aee16311",
   "metadata": {},
   "outputs": [],
   "source": [
    "kmeans = KMeans().setMaxIter(100).setK(3).setSeed(1)\n",
    "kmeans_model = kmeans.fit(result)"
   ]
  },
  {
   "cell_type": "markdown",
   "id": "2d3096e5",
   "metadata": {},
   "source": [
    "## Se hace la predicción de las categorias del modelo TEST"
   ]
  },
  {
   "cell_type": "code",
   "execution_count": null,
   "id": "3e9c3881",
   "metadata": {
    "scrolled": true
   },
   "outputs": [],
   "source": [
    "predictions = kmeans_model.transform(result)\n",
    "predictions.show()"
   ]
  },
  {
   "cell_type": "markdown",
   "id": "fe27eb3b",
   "metadata": {},
   "source": [
    "# Ahora ejecutamos el modelo para todos los datos TRAIN"
   ]
  },
  {
   "cell_type": "markdown",
   "id": "98d46db6",
   "metadata": {},
   "source": [
    "## Se selecciona la columna title_splitted y se hace un split que tambien pone cada palabra en minusculas para TRAIN"
   ]
  },
  {
   "cell_type": "code",
   "execution_count": null,
   "id": "f9c5b439",
   "metadata": {},
   "outputs": [],
   "source": [
    "titles = title.withColumn('title_splitted',split(lower(col('title')),\" \"))\n",
    "#w2v_all = Word2Vec(vectorSize = 100, minCount = 0, maxIter = 10, inputCol = 'title_splitted', outputCol = 'features')"
   ]
  },
  {
   "cell_type": "code",
   "execution_count": null,
   "id": "50f4efb3",
   "metadata": {},
   "outputs": [],
   "source": [
    "titles.take(2)"
   ]
  },
  {
   "cell_type": "markdown",
   "id": "999d0a6a",
   "metadata": {},
   "source": [
    "## Se hace una transformación de los datos para poder entrenar el modelo para TRAIN"
   ]
  },
  {
   "cell_type": "code",
   "execution_count": null,
   "id": "046c5cf3",
   "metadata": {},
   "outputs": [],
   "source": [
    "result_all = model.transform(titles)"
   ]
  },
  {
   "cell_type": "markdown",
   "id": "75baff98",
   "metadata": {},
   "source": [
    "## Se entrena el modelo con Kmeans con todos los datos TRAIN"
   ]
  },
  {
   "cell_type": "code",
   "execution_count": null,
   "id": "cdc7fcea",
   "metadata": {
    "scrolled": true
   },
   "outputs": [],
   "source": [
    "predictions_all = kmeans_model.transform(result_all)\n",
    "predictions_all.show()"
   ]
  },
  {
   "cell_type": "markdown",
   "id": "0c8526bb",
   "metadata": {},
   "source": [
    "# CATEGORIA 2 PARA IDENTIFICAR EL NOMBRE DE DICHA CATEGORIA"
   ]
  },
  {
   "cell_type": "markdown",
   "id": "12f3cc05",
   "metadata": {},
   "source": [
    "## Filtramos la categoria 2 y la asignamos a la variable \\_word2\\_"
   ]
  },
  {
   "cell_type": "code",
   "execution_count": null,
   "id": "fa49b681",
   "metadata": {
    "scrolled": true
   },
   "outputs": [],
   "source": [
    "word2 = predictions_all.filter(predictions_all.prediction == 2)"
   ]
  },
  {
   "cell_type": "markdown",
   "id": "98f64f84",
   "metadata": {},
   "source": [
    "## Luego seleccionamos solo la columna title_splitted y la almacenamos en la variable \\__word2_title_split\\__"
   ]
  },
  {
   "cell_type": "code",
   "execution_count": null,
   "id": "b220bc35",
   "metadata": {},
   "outputs": [],
   "source": [
    "word2_title_split = word2.select(\"title_splitted\")"
   ]
  },
  {
   "cell_type": "markdown",
   "id": "033725cc",
   "metadata": {},
   "source": [
    "## Importamos librerias necesarias para analizar la nube de palabras de la categoria 2"
   ]
  },
  {
   "cell_type": "code",
   "execution_count": null,
   "id": "14fc5610",
   "metadata": {},
   "outputs": [],
   "source": [
    "from wordcloud import WordCloud\n",
    "import matplotlib.pyplot as plt\n",
    "import nltk\n",
    "from nltk.corpus import stopwords\n"
   ]
  },
  {
   "cell_type": "markdown",
   "id": "5898df24",
   "metadata": {},
   "source": [
    "## Se crea una función CLEAN_TEXT que limpia las palabras de caracteres y datos redundantes"
   ]
  },
  {
   "cell_type": "code",
   "execution_count": null,
   "id": "f728bea7",
   "metadata": {},
   "outputs": [],
   "source": [
    "def clean_text(line:str) -> str:\n",
    "    punct = '!\"#$%&\\'()*+,./:;<=>?@[\\\\]^_`{|}~-“”'\n",
    "    words = ['covid 19','covid19', 'covid19 ', ' covid19', 'said','2020','2021','coronavirus','pandemic']\n",
    "    lowercased = line.lower()\n",
    "    for word in words:\n",
    "        lowercased = lowercased.replace(word, '')\n",
    "    return lowercased.translate(str.maketrans('','',punct)).strip()"
   ]
  },
  {
   "cell_type": "markdown",
   "id": "6c789fdc",
   "metadata": {},
   "source": [
    "## Se convierten los datos en rdd y se aplica la función lambda"
   ]
  },
  {
   "cell_type": "code",
   "execution_count": null,
   "id": "a77d02a2",
   "metadata": {},
   "outputs": [],
   "source": [
    "word2_title_split_rdd = word2_title_split.rdd.map(lambda x: \" \".join(x[0]))\n",
    "word2_title_split_rdd.take(3)"
   ]
  },
  {
   "cell_type": "markdown",
   "id": "d97cfd0d",
   "metadata": {},
   "source": [
    "## Se aplica la función CLEAN_TEXT a los datos"
   ]
  },
  {
   "cell_type": "code",
   "execution_count": null,
   "id": "b0895d39",
   "metadata": {},
   "outputs": [],
   "source": [
    "word2_title_cleaned =word2_title_split_rdd.map(clean_text)\n",
    "word2_title_cleaned.take(5)"
   ]
  },
  {
   "cell_type": "markdown",
   "id": "a26379c1",
   "metadata": {},
   "source": [
    "## Se realiza un flatmap a los datos para que esten en un array"
   ]
  },
  {
   "cell_type": "code",
   "execution_count": null,
   "id": "19ae0129",
   "metadata": {},
   "outputs": [],
   "source": [
    "all_words = word2_title_cleaned.flatMap(lambda line: line.split())\n",
    "all_words.take(15)"
   ]
  },
  {
   "cell_type": "markdown",
   "id": "5c1b50b2",
   "metadata": {},
   "source": [
    "## Se aplica un count a los datos"
   ]
  },
  {
   "cell_type": "code",
   "execution_count": null,
   "id": "034eeb5a",
   "metadata": {},
   "outputs": [],
   "source": [
    "all_words_count = all_words.map(lambda word: (word,1))\n",
    "all_words_count.take(3)"
   ]
  },
  {
   "cell_type": "markdown",
   "id": "d4677165",
   "metadata": {},
   "source": [
    "## Se muestran cuantos datos se contaron"
   ]
  },
  {
   "cell_type": "code",
   "execution_count": null,
   "id": "85ab046c",
   "metadata": {},
   "outputs": [],
   "source": [
    "all_words.count()"
   ]
  },
  {
   "cell_type": "markdown",
   "id": "d637f9d7",
   "metadata": {},
   "source": [
    "## Se realiza el reduce by key para contar las palabras que se repiten y asignar una llave"
   ]
  },
  {
   "cell_type": "code",
   "execution_count": null,
   "id": "0f4b639a",
   "metadata": {},
   "outputs": [],
   "source": [
    "all_words_rbk = all_words_count.reduceByKey(lambda a,b: a+b).sortByKey()\n",
    "all_words_rbk.take(10)"
   ]
  },
  {
   "cell_type": "markdown",
   "id": "44d44ca1",
   "metadata": {},
   "source": [
    "## Se guardan los datos en memoria con la funcion persist"
   ]
  },
  {
   "cell_type": "code",
   "execution_count": null,
   "id": "83b6ac2c",
   "metadata": {},
   "outputs": [],
   "source": [
    "all_words_rbk.persist()"
   ]
  },
  {
   "cell_type": "markdown",
   "id": "f25dfd3b",
   "metadata": {},
   "source": [
    "## Descargamos el diccionario de sptopwords de la libreria nltk"
   ]
  },
  {
   "cell_type": "code",
   "execution_count": null,
   "id": "4ceaf3ca",
   "metadata": {},
   "outputs": [],
   "source": [
    "nltk.download('stopwords')"
   ]
  },
  {
   "cell_type": "markdown",
   "id": "b187dec7",
   "metadata": {},
   "source": [
    "## Almacenamos los stopwords en ingles en la variable \\__stopwords\\__"
   ]
  },
  {
   "cell_type": "code",
   "execution_count": null,
   "id": "153992b5",
   "metadata": {},
   "outputs": [],
   "source": [
    "stopwords = stopwords.words('english')"
   ]
  },
  {
   "cell_type": "markdown",
   "id": "123c6880",
   "metadata": {},
   "source": [
    "## Se retira los stopwords de las palabras que guardamos en memoria "
   ]
  },
  {
   "cell_type": "code",
   "execution_count": null,
   "id": "501bfc5f",
   "metadata": {},
   "outputs": [],
   "source": [
    "all_words_rbk = all_words_rbk.filter(lambda tupla: tupla[0] not in stopwords)\n",
    "all_words_rbk.take(5)"
   ]
  },
  {
   "cell_type": "markdown",
   "id": "a2c8eb18",
   "metadata": {},
   "source": [
    "## Se traen las palabras que mas se repiten en orden descendente"
   ]
  },
  {
   "cell_type": "code",
   "execution_count": null,
   "id": "24f521fd",
   "metadata": {},
   "outputs": [],
   "source": [
    "all_words_rbk.map(lambda tupla: (tupla[1],tupla[0])).sortByKey(False).take(20)"
   ]
  },
  {
   "cell_type": "markdown",
   "id": "62af957e",
   "metadata": {},
   "source": [
    "## Se genera un diccionario de llave valor "
   ]
  },
  {
   "cell_type": "code",
   "execution_count": null,
   "id": "95e0c8b9",
   "metadata": {},
   "outputs": [],
   "source": [
    "word_dict = {tupla[0]:float(tupla[1]) for tupla in all_words_rbk.collect()}"
   ]
  },
  {
   "cell_type": "markdown",
   "id": "2a0f386d",
   "metadata": {},
   "source": [
    "## Se genera la bolsa de palabras"
   ]
  },
  {
   "cell_type": "code",
   "execution_count": null,
   "id": "b0b15223",
   "metadata": {},
   "outputs": [],
   "source": [
    "wc = WordCloud(width=3000,height=1000).generate_from_frequencies(word_dict)"
   ]
  },
  {
   "cell_type": "markdown",
   "id": "976efe75",
   "metadata": {},
   "source": [
    "## Se grafican las palabras de la categoria 2"
   ]
  },
  {
   "cell_type": "code",
   "execution_count": null,
   "id": "77813db9",
   "metadata": {},
   "outputs": [],
   "source": [
    "plt.figure(figsize=(30, 10))\n",
    "plt.imshow(wc)\n",
    "plt.axis(\"off\")"
   ]
  },
  {
   "cell_type": "markdown",
   "id": "1877d80b",
   "metadata": {},
   "source": [
    "# LA CATEGORIA 2 = finantial_result_quarter"
   ]
  },
  {
   "cell_type": "markdown",
   "id": "985c6433",
   "metadata": {},
   "source": [
    "# CATEGORIA 1 PARA IDENTIFICAR EL NOMBRE DE DICHA CATEGORIA"
   ]
  },
  {
   "cell_type": "code",
   "execution_count": null,
   "id": "85273fd2",
   "metadata": {},
   "outputs": [],
   "source": [
    "word1 = predictions_all.filter(predictions_all.prediction == 1)"
   ]
  },
  {
   "cell_type": "code",
   "execution_count": null,
   "id": "42dbc4c8",
   "metadata": {},
   "outputs": [],
   "source": [
    "word1_title_split = word1.select(\"title_splitted\")"
   ]
  },
  {
   "cell_type": "code",
   "execution_count": null,
   "id": "d27a5f81",
   "metadata": {},
   "outputs": [],
   "source": [
    "word1_title_split_rdd = word1_title_split.rdd.map(lambda x: \" \".join(x[0]))\n",
    "word1_title_split_rdd.take(3)"
   ]
  },
  {
   "cell_type": "code",
   "execution_count": null,
   "id": "01f8919d",
   "metadata": {},
   "outputs": [],
   "source": [
    "word1_title_cleaned =word1_title_split_rdd.map(clean_text)\n",
    "word1_title_cleaned.take(5)"
   ]
  },
  {
   "cell_type": "code",
   "execution_count": null,
   "id": "5632efe0",
   "metadata": {},
   "outputs": [],
   "source": [
    "all_words1 = word1_title_cleaned.flatMap(lambda line: line.split())\n",
    "all_words1.take(15)"
   ]
  },
  {
   "cell_type": "code",
   "execution_count": null,
   "id": "9e3ad1ae",
   "metadata": {},
   "outputs": [],
   "source": [
    "all_words1_count = all_words1.map(lambda word: (word,1))\n",
    "all_words1_count.take(3)"
   ]
  },
  {
   "cell_type": "code",
   "execution_count": null,
   "id": "7bdcdf24",
   "metadata": {},
   "outputs": [],
   "source": [
    "all_words.count()"
   ]
  },
  {
   "cell_type": "code",
   "execution_count": null,
   "id": "4a2a0a57",
   "metadata": {},
   "outputs": [],
   "source": [
    "all_words1_rbk = all_words1_count.reduceByKey(lambda a,b: a+b).sortByKey()\n",
    "all_words1_rbk.take(10)"
   ]
  },
  {
   "cell_type": "code",
   "execution_count": null,
   "id": "0153b2fe",
   "metadata": {},
   "outputs": [],
   "source": [
    "all_words1_rbk.persist()"
   ]
  },
  {
   "cell_type": "code",
   "execution_count": null,
   "id": "5b45ccb1",
   "metadata": {},
   "outputs": [],
   "source": [
    "nltk.download('stopwords')"
   ]
  },
  {
   "cell_type": "code",
   "execution_count": null,
   "id": "6dabf9c6",
   "metadata": {},
   "outputs": [],
   "source": [
    "stopwords = stopwords.words('english')"
   ]
  },
  {
   "cell_type": "code",
   "execution_count": null,
   "id": "cd9bdf15",
   "metadata": {
    "scrolled": false
   },
   "outputs": [],
   "source": [
    "all_words1_rbk = all_words1_rbk.filter(lambda tupla: tupla[0] not in stopwords)\n",
    "all_words1_rbk.take(5)"
   ]
  },
  {
   "cell_type": "code",
   "execution_count": null,
   "id": "4eb6cb35",
   "metadata": {},
   "outputs": [],
   "source": [
    "all_words1_rbk.map(lambda tupla: (tupla[1],tupla[0])).sortByKey(False).take(20)"
   ]
  },
  {
   "cell_type": "code",
   "execution_count": null,
   "id": "e6f8f6f4",
   "metadata": {},
   "outputs": [],
   "source": [
    "word_dict1 = {tupla[0]:float(tupla[1]) for tupla in all_words1_rbk.collect()}"
   ]
  },
  {
   "cell_type": "code",
   "execution_count": null,
   "id": "ec348e5e",
   "metadata": {},
   "outputs": [],
   "source": [
    "wc1 = WordCloud(width=3000,height=1000).generate_from_frequencies(word_dict1)"
   ]
  },
  {
   "cell_type": "code",
   "execution_count": null,
   "id": "b7fc905f",
   "metadata": {},
   "outputs": [],
   "source": [
    "plt.figure(figsize=(30, 10))\n",
    "plt.imshow(wc1)\n",
    "plt.axis(\"off\")"
   ]
  },
  {
   "cell_type": "markdown",
   "id": "37355ef1",
   "metadata": {},
   "source": [
    "# LA CATEGORIA 1 = market_analysis "
   ]
  },
  {
   "cell_type": "markdown",
   "id": "044ecacb",
   "metadata": {},
   "source": [
    "# CATEGORIA 0 PARA IDENTIFICAR EL NOMBRE DE DICHA CATEGORIA"
   ]
  },
  {
   "cell_type": "code",
   "execution_count": null,
   "id": "f0042210",
   "metadata": {},
   "outputs": [],
   "source": [
    "word0 = predictions_all.filter(predictions_all.prediction == 0)"
   ]
  },
  {
   "cell_type": "code",
   "execution_count": null,
   "id": "ced5b4a0",
   "metadata": {},
   "outputs": [],
   "source": [
    "word0_title_split = word0.select(\"title_splitted\")"
   ]
  },
  {
   "cell_type": "code",
   "execution_count": null,
   "id": "07855130",
   "metadata": {},
   "outputs": [],
   "source": [
    "word0_title_split_rdd = word0_title_split.rdd.map(lambda x: \" \".join(x[0]))\n",
    "word0_title_split_rdd.take(3)"
   ]
  },
  {
   "cell_type": "code",
   "execution_count": null,
   "id": "c64e7b9e",
   "metadata": {},
   "outputs": [],
   "source": [
    "word0_title_cleaned =word0_title_split_rdd.map(clean_text)\n",
    "word0_title_cleaned.take(3)"
   ]
  },
  {
   "cell_type": "code",
   "execution_count": null,
   "id": "31f9d265",
   "metadata": {},
   "outputs": [],
   "source": [
    "all_words0 = word0_title_cleaned.flatMap(lambda line: line.split())\n",
    "all_words0.take(5)"
   ]
  },
  {
   "cell_type": "code",
   "execution_count": null,
   "id": "312e3ee5",
   "metadata": {},
   "outputs": [],
   "source": [
    "all_words0_count = all_words0.map(lambda word: (word,1))\n",
    "all_words0_count.take(3)"
   ]
  },
  {
   "cell_type": "code",
   "execution_count": null,
   "id": "b55df178",
   "metadata": {},
   "outputs": [],
   "source": [
    "all_words0.count()"
   ]
  },
  {
   "cell_type": "code",
   "execution_count": null,
   "id": "c9001bf0",
   "metadata": {},
   "outputs": [],
   "source": [
    "all_words0_rbk = all_words0_count.reduceByKey(lambda a,b: a+b).sortByKey()\n",
    "all_words0_rbk.take(10)"
   ]
  },
  {
   "cell_type": "code",
   "execution_count": null,
   "id": "3dcd47f7",
   "metadata": {},
   "outputs": [],
   "source": [
    "all_words0_rbk.persist()"
   ]
  },
  {
   "cell_type": "code",
   "execution_count": null,
   "id": "9bc59a36",
   "metadata": {},
   "outputs": [],
   "source": [
    "nltk.download('stopwords')"
   ]
  },
  {
   "cell_type": "code",
   "execution_count": null,
   "id": "d5451f3a",
   "metadata": {},
   "outputs": [],
   "source": [
    "stopwords = stopwords.words('english')"
   ]
  },
  {
   "cell_type": "code",
   "execution_count": null,
   "id": "b37ed75f",
   "metadata": {},
   "outputs": [],
   "source": [
    "all_words0_rbk = all_words0_rbk.filter(lambda tupla: tupla[0] not in stopwords)\n",
    "all_words0_rbk.take(5)"
   ]
  },
  {
   "cell_type": "code",
   "execution_count": null,
   "id": "909828ad",
   "metadata": {},
   "outputs": [],
   "source": [
    "all_words0_rbk.map(lambda tupla: (tupla[1],tupla[0])).sortByKey(False).take(20)"
   ]
  },
  {
   "cell_type": "code",
   "execution_count": null,
   "id": "3ce4fa64",
   "metadata": {},
   "outputs": [],
   "source": [
    "word_dict0 = {tupla[0]:float(tupla[1]) for tupla in all_words0_rbk.collect()}"
   ]
  },
  {
   "cell_type": "code",
   "execution_count": null,
   "id": "8e184007",
   "metadata": {},
   "outputs": [],
   "source": [
    "wc0 = WordCloud(width=3000,height=1000).generate_from_frequencies(word_dict0)"
   ]
  },
  {
   "cell_type": "code",
   "execution_count": null,
   "id": "738336de",
   "metadata": {},
   "outputs": [],
   "source": [
    "plt.figure(figsize=(30, 10))\n",
    "plt.imshow(wc0)\n",
    "plt.axis(\"off\")"
   ]
  },
  {
   "cell_type": "markdown",
   "id": "e0e8163b",
   "metadata": {},
   "source": [
    "# LA CATEGORIA 1 = political_analysis "
   ]
  },
  {
   "cell_type": "code",
   "execution_count": null,
   "id": "714ab45f",
   "metadata": {},
   "outputs": [],
   "source": [
    "metodo silhouette para encontrar numero de clusters\n",
    "topic modelling\n",
    "latent dirichlet allocation (LDA)"
   ]
  },
  {
   "cell_type": "code",
   "execution_count": null,
   "id": "755b4e04",
   "metadata": {},
   "outputs": [],
   "source": []
  }
 ],
 "metadata": {
  "kernelspec": {
   "display_name": "Python 3 (ipykernel)",
   "language": "python",
   "name": "python3"
  },
  "language_info": {
   "codemirror_mode": {
    "name": "ipython",
    "version": 3
   },
   "file_extension": ".py",
   "mimetype": "text/x-python",
   "name": "python",
   "nbconvert_exporter": "python",
   "pygments_lexer": "ipython3",
   "version": "3.10.6"
  }
 },
 "nbformat": 4,
 "nbformat_minor": 5
}
