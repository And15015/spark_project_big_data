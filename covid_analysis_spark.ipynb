{
 "cells": [
  {
   "cell_type": "code",
   "execution_count": 1,
   "metadata": {},
   "outputs": [],
   "source": [
    "import pandas as pd\n",
    "import numpy as np\n",
    "import matplotlib.pyplot as plt\n",
    "%matplotlib inline\n",
    "\n",
    "import pyspark\n",
    "from pyspark.sql import *\n",
    "from pyspark.sql.functions import *\n",
    "from pyspark import SparkContext, SparkConf"
   ]
  },
  {
   "cell_type": "code",
   "execution_count": 2,
   "metadata": {},
   "outputs": [
    {
     "name": "stderr",
     "output_type": "stream",
     "text": [
      "Setting default log level to \"WARN\".\n",
      "To adjust logging level use sc.setLogLevel(newLevel). For SparkR, use setLogLevel(newLevel).\n"
     ]
    },
    {
     "name": "stdout",
     "output_type": "stream",
     "text": [
      "22/09/28 03:17:13 WARN NativeCodeLoader: Unable to load native-hadoop library for your platform... using builtin-java classes where applicable\n"
     ]
    }
   ],
   "source": [
    "conf = SparkConf().set(\"spark.ui.port\", \"4050\")\n",
    "\n",
    "# creamos el contexto y la sesión\n",
    "sc = pyspark.SparkContext(conf=conf)\n",
    "spark = SparkSession.builder.getOrCreate()"
   ]
  },
  {
   "cell_type": "code",
   "execution_count": 55,
   "metadata": {},
   "outputs": [],
   "source": [
    "data_covid = sc.textFile('./data/covid_articles_raw.csv')"
   ]
  },
  {
   "cell_type": "code",
   "execution_count": 56,
   "metadata": {},
   "outputs": [
    {
     "data": {
      "text/plain": [
       "pyspark.rdd.RDD"
      ]
     },
     "execution_count": 56,
     "metadata": {},
     "output_type": "execute_result"
    }
   ],
   "source": [
    "type(data_covid)"
   ]
  },
  {
   "cell_type": "code",
   "execution_count": 57,
   "metadata": {},
   "outputs": [
    {
     "data": {
      "text/plain": [
       "['title,content,category',\n",
       " 'Looking into the truth about modern workplace environments,\"Hi, what are you looking for?',\n",
       " 'By',\n",
       " 'Published',\n",
       " 'Workplaces are being transformed, according to the Olivet Nazarene University study ( “ The Truth about Modern Offices “). The days of men and women fitted in formal clothing and working under the harsh glare fluorescent lighting are slipping away. The trends of today are reflective of casual dress codes and soft furnishings.']"
      ]
     },
     "execution_count": 57,
     "metadata": {},
     "output_type": "execute_result"
    }
   ],
   "source": [
    "data_covid.take(5)"
   ]
  },
  {
   "cell_type": "markdown",
   "metadata": {},
   "source": [
    "### Creamos una función que \"limpia\" cada línea: se remueven signos de puntuación y otros caracteres. Adicionalmente convertimos el texto a minúscula"
   ]
  },
  {
   "cell_type": "code",
   "execution_count": 58,
   "metadata": {},
   "outputs": [],
   "source": [
    "def clean_text(line:str) -> str:\n",
    "    punct = '!\"#$%&\\'()*+,./:;<=>?@[\\\\]^_`{|}~-'\n",
    "    words = ['covid19','said','2020','2021','coronavirus','pandemic']\n",
    "    lowercased = line.lower()\n",
    "    for word in words:\n",
    "        lowercased = lowercased.replace(word.strip(), '')\n",
    "    return lowercased.translate(str.maketrans('','',punct)).strip()"
   ]
  },
  {
   "cell_type": "code",
   "execution_count": 59,
   "metadata": {},
   "outputs": [],
   "source": [
    "data_covid = data_covid.map(clean_text)"
   ]
  },
  {
   "cell_type": "code",
   "execution_count": 60,
   "metadata": {},
   "outputs": [
    {
     "data": {
      "text/plain": [
       "['titlecontentcategory',\n",
       " 'looking into the truth about modern workplace environmentshi what are you looking for',\n",
       " 'by',\n",
       " 'published',\n",
       " 'workplaces are being transformed according to the olivet nazarene university study  “ the truth about modern offices “ the days of men and women fitted in formal clothing and working under the harsh glare fluorescent lighting are slipping away the trends of today are reflective of casual dress codes and soft furnishings',\n",
       " 'there are signs too that the ‘ animal penning’  read cubicles are starting to be withdrawn and replaced with open floor plans  indications are that over half of workplaces – 51 percent – have gravitated towards the ‘ open office’ or open floor plan concept',\n",
       " 'the survey also showed that 77 percent of us located workers are reportedly happy with the way their office is set up however as an indication of thoughts about openplan areas those with private offices stated they were happiest',\n",
       " 'through changing technology more employees are now having more daily conversations via messaging apps rather than facetoface interactions  for every 17 conversations nine are via messaging systems against eight that are facetoface an example of such a system is skype for business',\n",
       " 'the poll also found that 58 percent of us citizens selfreport they are less productive when working from home the main reasons for this loss of productivity include distractions trouble signing off at the end of the day and difficulty communicating and collaborating with coworkers furthermore 80 percent of those ‘ homeworking’ freely admitted to multitasking by this people are choosing to focus on things like laundry family or television so while remote working takes off there are some apparent downsides to this trend',\n",
       " 'the data was compiled between november 15 and november 17 2019 encompassed in the survey were 2009 people who were polled about their current workplace environments the mean age of the participants was 37 years by gender 55 percent of the respondents were female and 45 percent were male']"
      ]
     },
     "execution_count": 60,
     "metadata": {},
     "output_type": "execute_result"
    }
   ],
   "source": [
    "data_covid.take(10)"
   ]
  },
  {
   "cell_type": "code",
   "execution_count": 61,
   "metadata": {},
   "outputs": [],
   "source": [
    "all_words = data_covid.flatMap(lambda line: line.split())"
   ]
  },
  {
   "cell_type": "code",
   "execution_count": 62,
   "metadata": {},
   "outputs": [
    {
     "data": {
      "text/plain": [
       "['titlecontentcategory',\n",
       " 'looking',\n",
       " 'into',\n",
       " 'the',\n",
       " 'truth',\n",
       " 'about',\n",
       " 'modern',\n",
       " 'workplace',\n",
       " 'environmentshi',\n",
       " 'what',\n",
       " 'are',\n",
       " 'you',\n",
       " 'looking',\n",
       " 'for',\n",
       " 'by',\n",
       " 'published',\n",
       " 'workplaces',\n",
       " 'are',\n",
       " 'being',\n",
       " 'transformed']"
      ]
     },
     "execution_count": 62,
     "metadata": {},
     "output_type": "execute_result"
    }
   ],
   "source": [
    "all_words.take(20)"
   ]
  },
  {
   "cell_type": "code",
   "execution_count": 63,
   "metadata": {},
   "outputs": [],
   "source": [
    "data_covid_count = all_words.map(lambda word: (word,1))"
   ]
  },
  {
   "cell_type": "code",
   "execution_count": 64,
   "metadata": {},
   "outputs": [
    {
     "name": "stderr",
     "output_type": "stream",
     "text": [
      "                                                                                \r"
     ]
    }
   ],
   "source": [
    "data_covid_rbk = data_covid_count.reduceByKey(lambda a,b: a+b).sortByKey()"
   ]
  },
  {
   "cell_type": "code",
   "execution_count": null,
   "metadata": {},
   "outputs": [],
   "source": [
    "data_covid_rbk.persist()"
   ]
  },
  {
   "cell_type": "code",
   "execution_count": null,
   "metadata": {},
   "outputs": [],
   "source": [
    "data_covid_rbk.take(10)"
   ]
  },
  {
   "cell_type": "markdown",
   "metadata": {},
   "source": [
    "### Truco para encontrar las palabras con mas ocurrencias:"
   ]
  },
  {
   "cell_type": "code",
   "execution_count": null,
   "metadata": {},
   "outputs": [],
   "source": [
    "import nltk"
   ]
  },
  {
   "cell_type": "code",
   "execution_count": null,
   "metadata": {},
   "outputs": [],
   "source": [
    "nltk.download('stopwords')"
   ]
  },
  {
   "cell_type": "code",
   "execution_count": null,
   "metadata": {},
   "outputs": [],
   "source": [
    "from nltk.corpus import stopwords\n",
    "stopwords = stopwords.words('english')\n",
    "stopwords"
   ]
  },
  {
   "cell_type": "markdown",
   "metadata": {},
   "source": [
    "### Dejamos solo las palabras que no sean stopwords"
   ]
  },
  {
   "cell_type": "code",
   "execution_count": null,
   "metadata": {},
   "outputs": [],
   "source": [
    "data_covid_rbk = data_covid_rbk.filter(lambda tupla: tupla[0] not in stopwords)"
   ]
  },
  {
   "cell_type": "code",
   "execution_count": null,
   "metadata": {},
   "outputs": [],
   "source": [
    "data_covid_rbk.map(lambda tupla: (tupla[1],tupla[0])).sortByKey(False).take(20)"
   ]
  },
  {
   "cell_type": "code",
   "execution_count": null,
   "metadata": {},
   "outputs": [],
   "source": [
    "from wordcloud import WordCloud\n",
    "import matplotlib.pyplot as plt"
   ]
  },
  {
   "cell_type": "code",
   "execution_count": null,
   "metadata": {},
   "outputs": [],
   "source": [
    "word_dict = {tupla[0]:float(tupla[1]) for tupla in data_covid_rbk.collect()}"
   ]
  },
  {
   "cell_type": "code",
   "execution_count": null,
   "metadata": {},
   "outputs": [],
   "source": [
    "wc = WordCloud(width=3000,height=1000).generate_from_frequencies(word_dict)"
   ]
  },
  {
   "cell_type": "code",
   "execution_count": null,
   "metadata": {},
   "outputs": [],
   "source": [
    "plt.figure(figsize=(30, 10))\n",
    "plt.imshow(wc)\n",
    "plt.axis(\"off\")"
   ]
  },
  {
   "cell_type": "code",
   "execution_count": null,
   "metadata": {},
   "outputs": [],
   "source": []
  },
  {
   "cell_type": "code",
   "execution_count": null,
   "metadata": {},
   "outputs": [],
   "source": []
  }
 ],
 "metadata": {
  "kernelspec": {
   "display_name": "Python 3 (ipykernel)",
   "language": "python",
   "name": "python3"
  },
  "language_info": {
   "codemirror_mode": {
    "name": "ipython",
    "version": 3
   },
   "file_extension": ".py",
   "mimetype": "text/x-python",
   "name": "python",
   "nbconvert_exporter": "python",
   "pygments_lexer": "ipython3",
   "version": "3.10.4"
  }
 },
 "nbformat": 4,
 "nbformat_minor": 2
}
